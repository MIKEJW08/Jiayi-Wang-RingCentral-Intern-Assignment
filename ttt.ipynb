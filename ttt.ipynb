{
 "cells": [
  {
   "cell_type": "code",
   "execution_count": null,
   "metadata": {},
   "outputs": [
    {
     "name": "stdout",
     "output_type": "stream",
     "text": [
      " * Serving Flask app \"__main__\" (lazy loading)\n",
      " * Environment: production\n",
      "   WARNING: This is a development server. Do not use it in a production deployment.\n",
      "   Use a production WSGI server instead.\n",
      " * Debug mode: off\n"
     ]
    },
    {
     "name": "stderr",
     "output_type": "stream",
     "text": [
      " * Running on http://127.0.0.1:5000/ (Press CTRL+C to quit)\n",
      "127.0.0.1 - - [11/Apr/2021 22:07:26] \"\u001b[37mGET / HTTP/1.1\u001b[0m\" 200 -\n",
      "127.0.0.1 - - [11/Apr/2021 22:07:29] \"\u001b[37mPOST /result HTTP/1.1\u001b[0m\" 200 -\n"
     ]
    },
    {
     "name": "stdout",
     "output_type": "stream",
     "text": [
      "['Unnamed: 0']\n",
      "[{'Unnamed: 0': 0, 'mpg': 18.0, 'cylinders': 8, 'displacement': 307.0, 'horsepower': 130, 'weight': 3504, 'acceleration': 12.0, 'year': 70, 'origin': 1, 'name': 'chevrolet chevelle malibu'}, {'Unnamed: 0': 1, 'mpg': 15.0, 'cylinders': 8, 'displacement': 350.0, 'horsepower': 165, 'weight': 3693, 'acceleration': 11.5, 'year': 70, 'origin': 1, 'name': 'buick skylark 320'}]\n",
      "[3.8000000000000003, 0.031866000000000005, 0.0, 0.0, 5.877999999999999, 15.2, 18.2]\n",
      "(25, 10)\n"
     ]
    }
   ],
   "source": [
    "import json\n",
    "\n",
    "from flask import render_template, request, Flask\n",
    "\n",
    "from jwringcentral import ImportLocal, CommonColumns, Percentiles\n",
    "\n",
    "app = Flask(__name__)\n",
    "auto_data_path = \"./data/autodata.csv\"\n",
    "house_data_path = \"./data/housedata.csv\"\n",
    "auto_data_df = ImportLocal(auto_data_path)\n",
    "house_data_df = ImportLocal(house_data_path)\n",
    "\n",
    "\n",
    "@app.route('/result', methods=['post', 'get'])\n",
    "def result():\n",
    "    if request.method == \"POST\": \n",
    "        res = request.form  \n",
    "        number = int(res['number'])\n",
    "        csv_list = [\"autodata.csv\", \"housedata.csv\"]\n",
    "        auto_data_path = csv_path + csv_list[0]\n",
    "        house_data_path = csv_path + csv_list[1]\n",
    "        auto_data_df = ImportLocal(auto_data_path)\n",
    "        house_data_df = ImportLocal(house_data_path)\n",
    "        successful = True\n",
    "        first_result = None\n",
    "        second_result = None\n",
    "        third_result = None\n",
    "        df_shape = None\n",
    "        try:\n",
    "            first_result = CommonColumns(auto_data_df, house_data_df)\n",
    "            df_shape = auto_data_df.shape\n",
    "            second_result = json.loads(ImportLocal(auto_data_path)[0:2].to_json(orient='records', force_ascii=False))\n",
    "            third_result = Percentiles(house_data_df, number)\n",
    "            print(first_result)\n",
    "            print(second_result)\n",
    "            print(third_result)\n",
    "            print(df_shape)\n",
    "        except Exception:\n",
    "            successful = False\n",
    "        if successful is False:\n",
    "            return render_template(\"result.html\", successful=successful)\n",
    "        else:\n",
    "            return render_template(\"result.html\", successful=successful, first_result=csv_list,\n",
    "                                   second_result=second_result, third_result=third_result, df_shape=df_shape)\n",
    "\n",
    "\n",
    "@app.route('/')\n",
    "def index():\n",
    "    return render_template(\"index.html\")\n",
    "\n",
    "\n",
    "if __name__ == \"__main__\":\n",
    "    app.run()\n",
    " "
   ]
  },
  {
   "cell_type": "code",
   "execution_count": null,
   "metadata": {},
   "outputs": [],
   "source": []
  }
 ],
 "metadata": {
  "kernelspec": {
   "display_name": "Python 3",
   "language": "python",
   "name": "python3"
  },
  "varInspector": {
   "cols": {
    "lenName": 16,
    "lenType": 16,
    "lenVar": 40
   },
   "kernels_config": {
    "python": {
     "delete_cmd_postfix": "",
     "delete_cmd_prefix": "del ",
     "library": "var_list.py",
     "varRefreshCmd": "print(var_dic_list())"
    },
    "r": {
     "delete_cmd_postfix": ") ",
     "delete_cmd_prefix": "rm(",
     "library": "var_list.r",
     "varRefreshCmd": "cat(var_dic_list()) "
    }
   },
   "types_to_exclude": [
    "module",
    "function",
    "builtin_function_or_method",
    "instance",
    "_Feature"
   ],
   "window_display": false
  }
 },
 "nbformat": 4,
 "nbformat_minor": 4
}
